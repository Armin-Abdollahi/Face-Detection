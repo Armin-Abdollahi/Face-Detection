{
 "cells": [
  {
   "cell_type": "code",
   "execution_count": 1,
   "id": "495b8601",
   "metadata": {},
   "outputs": [],
   "source": [
    "# import OpenCV library\n",
    "import cv2"
   ]
  },
  {
   "cell_type": "code",
   "execution_count": 2,
   "id": "da1dee72",
   "metadata": {},
   "outputs": [],
   "source": [
    "# Importing Cascades related to face and smile with the cv2.CascadeClassifier\n",
    "face_cascade = cv2.CascadeClassifier('haarcascade_frontalface_default.xml')\n",
    "smile_cascade = cv2.CascadeClassifier('haarcascade_smile.xml')"
   ]
  },
  {
   "cell_type": "code",
   "execution_count": 3,
   "id": "1c28e756",
   "metadata": {},
   "outputs": [],
   "source": [
    "def detect(gray , frame):\n",
    "    \n",
    "    faces = face_cascade.detectMultiScale(gray , 1.3 , 5)\n",
    "    for (x , y , w , h) in faces:\n",
    "        cv2.rectangle(frame , (x , y) , (x+w , y+h) , (255,0,0) , 2)\n",
    "        \n",
    "        # Croping the part of image to the gray color format that we can detected face\n",
    "        detected_face = gray[y:y+h , x:x+w]\n",
    "        # Croping the part of image to the colorful format that we can detected face\n",
    "        detected_colored_face = frame[y:y+h , x:x+w]\n",
    "        \n",
    "        smiles = smile_cascade.detectMultiScale(detected_face , 1.7 , 22)\n",
    "        for (a , b , c , d) in smiles:\n",
    "            cv2.rectangle(detected_colored_face , (a , b) , (a+c , b+d) , (0,0,255) , 2)\n",
    "            \n",
    "    return frame"
   ]
  },
  {
   "cell_type": "code",
   "execution_count": 4,
   "id": "6d921628",
   "metadata": {},
   "outputs": [],
   "source": [
    "video_capture = cv2.VideoCapture(0)\n",
    "\n",
    "while True:\n",
    "    \n",
    "    ret , frame = video_capture.read()\n",
    "    gray = cv2.cvtColor(frame , cv2.COLOR_BGR2GRAY)\n",
    "    \n",
    "    my_output = detect(gray , frame)\n",
    "    cv2.imshow('Face & Smile Detector', my_output)\n",
    "    \n",
    "    if cv2.waitKey(1) & 0xFF == ord('q'):\n",
    "        break\n",
    "\n",
    "video_capture.release()\n",
    "cv2.destroyAllWindows()"
   ]
  }
 ],
 "metadata": {
  "kernelspec": {
   "display_name": "Python 3 (ipykernel)",
   "language": "python",
   "name": "python3"
  },
  "language_info": {
   "codemirror_mode": {
    "name": "ipython",
    "version": 3
   },
   "file_extension": ".py",
   "mimetype": "text/x-python",
   "name": "python",
   "nbconvert_exporter": "python",
   "pygments_lexer": "ipython3",
   "version": "3.10.9"
  }
 },
 "nbformat": 4,
 "nbformat_minor": 5
}
