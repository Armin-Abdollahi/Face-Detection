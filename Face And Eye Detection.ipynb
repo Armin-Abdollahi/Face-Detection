{
 "cells": [
  {
   "cell_type": "code",
   "execution_count": 1,
   "id": "4d71684e",
   "metadata": {},
   "outputs": [],
   "source": [
    "# Import OpenCV library\n",
    "import cv2"
   ]
  },
  {
   "cell_type": "code",
   "execution_count": 2,
   "id": "3ee57a7b",
   "metadata": {},
   "outputs": [],
   "source": [
    "# Importing Cascades related to face and eyes with the cv2.CascadeClassifier\n",
    "face_cascade = cv2.CascadeClassifier('haarcascade_frontalface_default.xml')\n",
    "eye_cascade = cv2.CascadeClassifier('haarcascade_eye.xml')"
   ]
  },
  {
   "cell_type": "code",
   "execution_count": 3,
   "id": "8964a165",
   "metadata": {},
   "outputs": [],
   "source": [
    "def detect(gray , frame):\n",
    "    \n",
    "    faces = face_cascade.detectMultiScale(gray , 1.3 , 5)\n",
    "    for (x , y , w , h) in faces:\n",
    "        cv2.rectangle(frame , (x , y) , (x+w , y+h) , (255,0,0) , 2)\n",
    "        \n",
    "        # Croping the part of image to the gray color format that we can detected face\n",
    "        detected_face = gray[y:y+h , x:x+w]\n",
    "        # Croping the part of image to the colorful format that we can detected face\n",
    "        detected_colored_face = frame[y:y+h , x:x+w]\n",
    "        \n",
    "        eyes = eye_cascade.detectMultiScale(detected_face , 1.1 , 3)\n",
    "        for (a , b , c , d) in eyes:\n",
    "            cv2.rectangle(detected_colored_face , (a,b) , (a+c , b+d) , (0,255,0) , 2)\n",
    "            \n",
    "    return frame"
   ]
  },
  {
   "cell_type": "code",
   "execution_count": 4,
   "id": "3228199f",
   "metadata": {},
   "outputs": [],
   "source": [
    "video_capture = cv2.VideoCapture(0)\n",
    "\n",
    "while True:\n",
    "    \n",
    "    ret , frame = video_capture.read()\n",
    "    gray = cv2.cvtColor(frame , cv2.COLOR_BGR2GRAY)\n",
    "    my_output = detect(gray , frame)\n",
    "    cv2.imshow('Face & Eye Detector', my_output)\n",
    "    \n",
    "    if cv2.waitKey(1) & 0xFF == ord('q'):\n",
    "        break\n",
    "\n",
    "video_capture.release()\n",
    "cv2.destroyAllWindows()"
   ]
  }
 ],
 "metadata": {
  "kernelspec": {
   "display_name": "Python 3 (ipykernel)",
   "language": "python",
   "name": "python3"
  },
  "language_info": {
   "codemirror_mode": {
    "name": "ipython",
    "version": 3
   },
   "file_extension": ".py",
   "mimetype": "text/x-python",
   "name": "python",
   "nbconvert_exporter": "python",
   "pygments_lexer": "ipython3",
   "version": "3.10.9"
  }
 },
 "nbformat": 4,
 "nbformat_minor": 5
}
